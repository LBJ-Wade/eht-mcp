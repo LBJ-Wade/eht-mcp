{
 "cells": [
  {
   "cell_type": "markdown",
   "metadata": {},
   "source": [
    "# Model Fit and Image Comparison Pipeline\n",
    "\n",
    "The purpose of this notebook is to load a series of images fit blindly to data and compare the following metrics:\n",
    "\n",
    "* Ring properties, such as\n",
    "\n",
    "    * Radius\n",
    "    * Width\n",
    "    * Asymmetry\n",
    "    * Intensity profiles along the ring\n",
    "    * Flux inside the ring vs flux outside the ring\n",
    "    * ...and more\n",
    "\n",
    "Geometric properties, such as the radius, will be fit using a Hough transfrom and the `HoughTransform` library. Asymmetry, ring width, and flux inside and outside the ring will be determined using the `PontiFEX` library. \n",
    "\n",
    "These attributes are ring-specific. \n",
    "\n",
    "\n",
    "### 1. Load images.\n",
    "Please provide your images and model fits as a .fits file, named as [naming convention]. For those submitting multiple images or model fits, please [multiple submission naming convention].\n",
    "\n",
    "Note: proposed naming convention, will be used for now: `LastnameFirstname_YYMMDD_ID.fits`, where\n",
    "\n",
    " * `Lastname`, `Firstname` (self explanatory) ex: JohnsonMichael\n",
    " * `YYMMDD`, date of SUBMISSION (e.g. November 8th, 2018 becomes 181108)\n",
    " * `ID`, dataset ID unique to each challenge. For the first challenge, this tag is: `WCROMH`. See: https://docs.google.com/spreadsheets/d/11oCD7T6okr3iRfJjvlFesowY3O8QLhv87HbOpP79v3c/edit?usp=sharing\n",
    " \n",
    " Example submission file name: `JohnsonMichael_181108_WCROMH.fits`"
   ]
  },
  {
   "cell_type": "code",
   "execution_count": 1,
   "metadata": {},
   "outputs": [
    {
     "name": "stdout",
     "output_type": "stream",
     "text": [
      "Welcome to eht-imaging v 1.1.0\n"
     ]
    }
   ],
   "source": [
    "## imports ##\n",
    "import glob\n",
    "import numpy\n",
    "import Pontifex\n",
    "import itertools\n",
    "import ehtim as eh\n",
    "import seaborn as sns\n",
    "import HoughTransform\n",
    "\n",
    "## graph settings ##\n",
    "import matplotlib.pyplot as plt\n",
    "import matplotlib\n",
    "plt.rc('text', usetex=True)\n",
    "plt.rc('font', family='serif')\n",
    "plt.rcParams.update({'font.size': 16})\n",
    "plt.rcParams['axes.linewidth'] = 2 #set the value globally\n",
    "plt.rcParams[\"font.weight\"] = \"bold\"\n",
    "plt.rcParams['text.latex.preamble'] = [r'\\usepackage{sfmath} \\boldmath']\n",
    "matplotlib.rcParams.update({'errorbar.capsize': 4})\n",
    "cycol = itertools.cycle(sns.color_palette())\n",
    "\n",
    "## ignore warnings ##\n",
    "import warnings\n",
    "warnings.filterwarnings('ignore')\n",
    "\n",
    "\n",
    "## settings ##\n",
    "RUN_ALL = True"
   ]
  },
  {
   "cell_type": "code",
   "execution_count": 2,
   "metadata": {},
   "outputs": [],
   "source": [
    "## quick class to store image submissions() and store the results of their analysis ##\n",
    "class Submission(object):\n",
    "    \n",
    "    def __init__(self, _filepath, run_all_analyses=False):\n",
    "        ## pre-analysis attributes ##\n",
    "        print \"Working on this file > \", _filepath\n",
    "        self._filepath      = _filepath\n",
    "        self.submitter      = self._filepath.split('/')[-1].split('_')[0]\n",
    "        self.submissionDate = int(self._filepath.split('/')[-1].split('_')[1])\n",
    "        self.challengeID    = self._filepath.split('/')[-1].split('_')[-1].split('.')[0]\n",
    "        self.image          = self.loadImage(self._filepath)\n",
    "        self.ImageAnalysisObject = Pontifex.AnalysisObject(self.image, intervals=15)\n",
    "            \n",
    "        \n",
    "        ## post-analysis attributes ##\n",
    "        self.analysisResults = {\n",
    "            'radius':-1,\n",
    "            'center':(0, 0),\n",
    "            'width':-1,\n",
    "            'asymmetry':-1,\n",
    "            'fluxInside':-1,\n",
    "            'fluxOutside':-1,\n",
    "            'fluxInRing':-1,\n",
    "            'fluxInDepression':-1,\n",
    "            'orientation':-1,\n",
    "            'sharpness':-1\n",
    "        }\n",
    "        \n",
    "        ## intensity profiles in the cardinal directions ##\n",
    "        self.intensityProfiles = {\n",
    "            0:self.ImageAnalysisObject.intensityProfiles[0],\n",
    "            1:self.ImageAnalysisObject.intensityProfiles[1],\n",
    "            2:self.ImageAnalysisObject.intensityProfiles[2],\n",
    "            3:self.ImageAnalysisObject.intensityProfiles[3]\n",
    "        }\n",
    "        \n",
    "        if run_all_analyses is True: self.runAll()\n",
    "        \n",
    "        \n",
    "    def loadImage(self, _fp):\n",
    "        return eh.image.load_image(_fp)\n",
    "\n",
    "    def runAll(self):\n",
    "        ## run all the analyses ##\n",
    "        self.getRadius()\n",
    "        self.getAsymmetry()\n",
    "        self.getWidth()\n",
    "        self.fluxInside()\n",
    "        self.fluxOutside()\n",
    "        self.sharpness()\n",
    "    \n",
    "    def getRadius(self):\n",
    "        ## use PontiFEX to get the mean radius ##\n",
    "        while 1:\n",
    "            try:\n",
    "                self.ImageAnalysisObject.iterative_peak_finding()\n",
    "                break\n",
    "            except ValueError:\n",
    "                self.ImageAnalysisObject.iterative_peak_finding()\n",
    "        self.analysisResults['radius'] = self.ImageAnalysisObject.radius_dictionary['combined']\n",
    "        \n",
    "    def getAsymmetry(self):\n",
    "        ## use PontiFEX to get the asymmetry ##\n",
    "        self.analysisResults['asymmetry'] = self.ImageAnalysisObject.get_asymmetry()\n",
    "    \n",
    "    def getWidth(self):\n",
    "        ## use PontiFEX to get the mean width ##\n",
    "        self.analysisResults['width'] \n",
    "        self.ImageAnalysisObject.get_mean_width()\n",
    "    \n",
    "    def fluxInside(self):\n",
    "        ## use PontiFEX to get the flux inside ##\n",
    "        self.analysisResults['fluxInside'] = self.ImageAnalysisObject.get_flux_inside_radius()\n",
    "    \n",
    "    def fluxOutside(self):\n",
    "        ## use PontiFEX to get the flux outside ##\n",
    "        self.analysisResults['fluxOutside'] = self.ImageAnalysisObject.get_flux_outside_radius()\n",
    "    \n",
    "    def plot_radius(self):\n",
    "        self.ImageAnalysisObject.get_radius_CIRCUMCENTER_METHOD()\n",
    "        plt.imshow(self.image.imvec.reshape((self.image.xdim, self.image.ydim)), interpolation='gaussian', cmap='gray')\n",
    "        center = self.ImageAnalysisObject.centers['circumcenter']\n",
    "        circle1 = plt.Circle(center,self.ImageAnalysisObject.uas_to_pix( self.ImageAnalysisObject.radius_dictionary['combined'] ),color='r', label='ring', fill=False)\n",
    "        plt.gcf().gca().add_artist(circle1)\n",
    "        \n",
    "        plt.legend()\n",
    "        plt.show()\n",
    "    \n",
    "    def sharpness(self):\n",
    "        ## get the sharpness of the ring ##\n",
    "        sharps = []\n",
    "        for key in self.intensityProfiles:\n",
    "            centerY = self.ImageAnalysisObject.centers['circumcenter'][1]\n",
    "            centerRowSlice = self.intensityProfiles[key][:int(centerY)]\n",
    "            sharps.append(Pontifex.FWHM(range(len(centerRowSlice)), centerRowSlice)/(2.2*numpy.max(centerRowSlice)))\n",
    "        self.analysisResults['sharpness'] = numpy.median(sharps)\n",
    "        \n",
    "    ## under construction ##\n",
    "    def fluxInRing(self):\n",
    "        ## use PontiFEX to get the flux in the ring ##\n",
    "        print 'get the flux within the ring'\n",
    "    \n",
    "    def fluxInRingDepression(self):\n",
    "        ## use PontiFEX to get the flux contained inside the ring but not part of the ring ##\n",
    "        print 'get flux within ring depression'\n",
    "    \n",
    "    def orientation(self):\n",
    "        ## get the orientation of the ring ##\n",
    "        print 'get orientation'\n",
    "    \n"
   ]
  },
  {
   "cell_type": "markdown",
   "metadata": {},
   "source": [
    "### 2. Create `Submission` object for each model/image.\n",
    "\n",
    "A submission object allows us to calculate and memoize many different ring-related metrics for each model fit, which we can compare later. One of the biggest benefits is that you can use any metric extraction method you like (here we use `PontiFEX` and `Hyperion`), but you don't have to change any of the actual scripts, just the class. To use your own feature extraction metrics, have your function return a single quantity that can be added to the analysis dictionary `analysisResults`. "
   ]
  },
  {
   "cell_type": "code",
   "execution_count": 3,
   "metadata": {},
   "outputs": [],
   "source": [
    "%%capture \n",
    "## ^ uncomment when everything is working ##\n",
    "\n",
    "## load images from folder ##\n",
    "_imagesFilepath = './sample_images/'\n",
    "imageFiles = glob.glob(_imagesFilepath + '*.fits')\n",
    "\n",
    "## create a submission object for each image ##\n",
    "submissionsList = [Submission(_file, run_all_analyses=RUN_ALL) for _file in imageFiles]"
   ]
  },
  {
   "cell_type": "markdown",
   "metadata": {},
   "source": [
    "### 3. Run analyses.\n",
    "\n",
    "Once the features for each `Submission` have been extracted and memoized, perform any statistical analyses you like on them using the `Submission` object's `self.analysisResults` dict. Below are two examples of "
   ]
  },
  {
   "cell_type": "code",
   "execution_count": null,
   "metadata": {
    "scrolled": true
   },
   "outputs": [],
   "source": [
    "## visual analysis of radius ##\n",
    "# potential TODO: make all circles centered?\n",
    "plt.imshow(0*submissionsList[0].image.imvec.reshape((submissionsList[0].image.xdim, submissionsList[0].image.ydim)), interpolation='gaussian', cmap='gray')\n",
    "for submission in submissionsList:\n",
    "    submission.ImageAnalysisObject.get_radius_CIRCUMCENTER_METHOD()\n",
    "    center = (50, 50) #submission.ImageAnalysisObject.centers['circumcenter']\n",
    "    circle1 = plt.Circle(center,submission.ImageAnalysisObject.uas_to_pix( submission.ImageAnalysisObject.radius_dictionary['combined'] ), color=cycol.next(), label=submission.submitter, fill=False)\n",
    "    plt.gcf().gca().add_artist(circle1)\n",
    "\n",
    "plt.legend()\n",
    "plt.title(\"Radius comparison, all models\")\n",
    "plt.show()"
   ]
  },
  {
   "cell_type": "code",
   "execution_count": 6,
   "metadata": {},
   "outputs": [
    {
     "data": {
      "image/png": "[encoded data removed]",
      "text/plain": [
       "<Figure size 432x288 with 6 Axes>"
      ]
     },
     "metadata": {},
     "output_type": "display_data"
    }
   ],
   "source": [
    "## plotting distributions of the parameters ##\n",
    "analyses = ['radius', 'width', 'asymmetry', 'fluxInside', 'fluxOutside', 'sharpness']\n",
    "\n",
    "spp = 160\n",
    "\n",
    "for analysis in analyses:\n",
    "    spp+=1\n",
    "    plt.subplot(spp)\n",
    "    plt.title(analysis)\n",
    "    plt.hist([submission.analysisResults[analysis] for submission in submissionsList])\n",
    "\n",
    "plt.subplots_adjust(bottom=1, top=2, right=5)\n",
    "plt.show()"
   ]
  },
  {
   "cell_type": "code",
   "execution_count": 33,
   "metadata": {},
   "outputs": [
    {
     "data": {
      "image/png": "[encoded data removed]",
      "text/plain": [
       "<Figure size 432x288 with 1 Axes>"
      ]
     },
     "metadata": {},
     "output_type": "display_data"
    }
   ],
   "source": [
    "## creating plots of radius and mean width per submission ##\n",
    "rads = []\n",
    "widths = []\n",
    "xticks = []\n",
    "for submission in submissionsList:\n",
    "    radius = submission.analysisResults['radius']\n",
    "    width = submission.analysisResults['width']\n",
    "    sID = submission.submitter\n",
    "    rads.append(radius)\n",
    "    widths.append(width)\n",
    "    xticks.append(sID)\n",
    "\n",
    "plt.errorbar(range(len(widths)), rads, yerr=widths, marker='.', linestyle='')\n",
    "plt.xlabel(\"Submitter\")\n",
    "plt.ylabel(\"Radius (uas)\")\n",
    "plt.xticks(range(len(widths)), xticks)\n",
    "plt.show()"
   ]
  },
  {
   "cell_type": "code",
   "execution_count": 39,
   "metadata": {},
   "outputs": [
    {
     "data": {
      "image/png": "[encoded data removed]",
      "text/plain": [
       "<Figure size 432x288 with 1 Axes>"
      ]
     },
     "metadata": {},
     "output_type": "display_data"
    }
   ],
   "source": [
    "## create plot of ring sharpness for each submission ##\n",
    "xticks = []\n",
    "sharpnesses = []\n",
    "for submission in submissionsList:\n",
    "    sharpness = submission.analysisResults['sharpness']\n",
    "    sharpnesses.append(sharpness)\n",
    "    plt.plot()\n",
    "    sID = submission.submitter\n",
    "    xticks.append(sID)\n",
    "\n",
    "plt.plot(sharpnesses, linestyle='', marker='+', markersize='10')\n",
    "plt.xlabel(\"Submitter\")\n",
    "plt.ylabel(\"Sharpness (uas)\")\n",
    "plt.xticks(range(len(sharpnesses)), xticks)\n",
    "plt.show()"
   ]
  },
  {
   "cell_type": "code",
   "execution_count": null,
   "metadata": {},
   "outputs": [],
   "source": []
  }
 ],
 "metadata": {
  "kernelspec": {
   "display_name": "Python 2",
   "language": "python",
   "name": "python2"
  },
  "language_info": {
   "codemirror_mode": {
    "name": "ipython",
    "version": 2
   },
   "file_extension": ".py",
   "mimetype": "text/x-python",
   "name": "python",
   "nbconvert_exporter": "python",
   "pygments_lexer": "ipython2",
   "version": "2.7.14"
  }
 },
 "nbformat": 4,
 "nbformat_minor": 2
}
