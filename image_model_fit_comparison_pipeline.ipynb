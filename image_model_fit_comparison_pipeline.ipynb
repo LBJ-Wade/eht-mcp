{
 "cells": [
  {
   "cell_type": "markdown",
   "metadata": {},
   "source": [
    "# Model Fit and Image Comparison Pipeline\n",
    "\n",
    "The purpose of this notebook is to load a series of images fit blindly to data and compare the following metrics:\n",
    "\n",
    "* Ring properties, such as\n",
    "\n",
    "    * Radius\n",
    "    * Width\n",
    "    * Asymmetry\n",
    "    * Intensity profiles along the ring\n",
    "    * Flux inside the ring vs flux outside the ring\n",
    "    * ...and more\n",
    "\n",
    "Geometric properties, such as the radius, will be fit using a Hough transfrom and the `HoughTransform` library. Asymmetry, ring width, and flux inside and outside the ring will be determined using the `PontiFEX` library. \n",
    "\n",
    "These attributes are ring-specific. \n",
    "\n",
    "\n",
    "### 1. Load images.\n",
    "Please provide your images and model fits as a .fits file, named as [naming convention]. For those submitting multiple images or model fits, please [multiple submission naming convention].\n",
    "\n",
    "Note: proposed naming convention, will be used for now: `LastnameFirstname_YYMMDD_ID.fits`, where\n",
    "\n",
    " * `Lastname`, `Firstname` (self explanatory) ex: JohnsonMichael\n",
    " * `YYMMDD`, date of SUBMISSION (e.g. November 8th, 2018 becomes 181108)\n",
    " * `ID`, dataset ID unique to each challenge. For the first challenge, this tag is: `WCROMH`. See: https://docs.google.com/spreadsheets/d/11oCD7T6okr3iRfJjvlFesowY3O8QLhv87HbOpP79v3c/edit?usp=sharing\n",
    " \n",
    " Example submission file name: `JohnsonMichael_181108_WCROMH.fits`"
   ]
  },
  {
   "cell_type": "code",
   "execution_count": 4,
   "metadata": {},
   "outputs": [
    {
     "name": "stdout",
     "output_type": "stream",
     "text": [
      "Welcome to eht-imaging v 1.0.0\n"
     ]
    }
   ],
   "source": [
    "## imports ##\n",
    "import glob\n",
    "import Pontifex\n",
    "import itertools\n",
    "import ehtim as eh\n",
    "import seaborn as sns\n",
    "import HoughTransform\n",
    "\n",
    "## graph settings ##\n",
    "import matplotlib.pyplot as plt\n",
    "plt.rc('text', usetex=True)\n",
    "plt.rc('font', family='serif')\n",
    "plt.rcParams.update({'font.size': 16})\n",
    "plt.rcParams['axes.linewidth'] = 2 #set the value globally\n",
    "plt.rcParams[\"font.weight\"] = \"bold\"\n",
    "plt.rcParams['text.latex.preamble'] = [r'\\usepackage{sfmath} \\boldmath']\n",
    "cycol = itertools.cycle(sns.color_palette())\n",
    "\n",
    "## ignore warnings ##\n",
    "import warnings\n",
    "warnings.filterwarnings('ignore')"
   ]
  },
  {
   "cell_type": "code",
   "execution_count": 5,
   "metadata": {},
   "outputs": [
    {
     "ename": "IndentationError",
     "evalue": "expected an indented block (<ipython-input-5-a048923ae1cf>, line 38)",
     "output_type": "error",
     "traceback": [
      "\u001b[0;36m  File \u001b[0;32m\"<ipython-input-5-a048923ae1cf>\"\u001b[0;36m, line \u001b[0;32m38\u001b[0m\n\u001b[0;31m    def getAsymmetry():\u001b[0m\n\u001b[0m      ^\u001b[0m\n\u001b[0;31mIndentationError\u001b[0m\u001b[0;31m:\u001b[0m expected an indented block\n"
     ]
    }
   ],
   "source": [
    "## quick class to store image submissions and store the results of their analysis ##\n",
    "class Submission(object):\n",
    "    \n",
    "    def __init__(_filepath):\n",
    "        ## pre-analysis attributes ##\n",
    "        self._filepath      = _filepath\n",
    "        self.submitter      = self._filepath.split('_')[0]\n",
    "        self.submissionDate = int(self._filepath.split('_')[1])\n",
    "        self.challengeID    = self._filepath.split('_')[-1].split('.')[0]\n",
    "        self.image          = self.loadImage(self._filepath)\n",
    "        \n",
    "        ## post-analysis attributes ##\n",
    "        self.analysisResults = {\n",
    "            'radius':-1,\n",
    "            'center':(0, 0),\n",
    "            'width':-1,\n",
    "            'asymmetry':-1,\n",
    "            'fluxInside':-1,\n",
    "            'fluxOutside':-1\n",
    "        }\n",
    "        \n",
    "        ## intensity profiles in the cardinal directions ##\n",
    "        self.intensityProfiles = {\n",
    "            0:[],\n",
    "            1:[],\n",
    "            2:[],\n",
    "            3:[]\n",
    "        }\n",
    "        \n",
    "        \n",
    "    def loadImage(_fp):\n",
    "        return eh.image.load_fits(_fp)\n",
    "    \n",
    "    def getRadius():\n",
    "        ## use PontiFEX to get the mean radius ##\n",
    "        \n",
    "        \n",
    "    def getAsymmetry():\n",
    "        ## use PontiFEX to get the asymmetry ##\n",
    "    \n",
    "    def getWidth():\n",
    "        ## use PontiFEX to get the mean width ##\n",
    "    \n",
    "    def fluxInside():\n",
    "        ## use PontiFEX to get the flux inside ##\n",
    "    \n",
    "    def fluxOutside():\n",
    "        ## use PontiFEX to get the flux outside ##\n",
    "        "
   ]
  },
  {
   "cell_type": "code",
   "execution_count": null,
   "metadata": {},
   "outputs": [],
   "source": [
    "## load images from folder ##\n",
    "_imagesFilepath = './sample_images/'\n",
    "imageFiles = glob.glob(_imagesFilepath + '*.fits')\n",
    "\n"
   ]
  },
  {
   "cell_type": "code",
   "execution_count": null,
   "metadata": {},
   "outputs": [],
   "source": []
  }
 ],
 "metadata": {
  "kernelspec": {
   "display_name": "Python 2",
   "language": "python",
   "name": "python2"
  },
  "language_info": {
   "codemirror_mode": {
    "name": "ipython",
    "version": 2
   },
   "file_extension": ".py",
   "mimetype": "text/x-python",
   "name": "python",
   "nbconvert_exporter": "python",
   "pygments_lexer": "ipython2",
   "version": "2.7.15"
  }
 },
 "nbformat": 4,
 "nbformat_minor": 2
}
